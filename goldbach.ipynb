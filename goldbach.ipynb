{
  "nbformat": 4,
  "nbformat_minor": 0,
  "metadata": {
    "colab": {
      "provenance": []
    },
    "kernelspec": {
      "name": "python3",
      "display_name": "Python 3"
    },
    "language_info": {
      "name": "python"
    }
  },
  "cells": [
    {
      "cell_type": "code",
      "source": [
        "from sympy import isprime\n",
        "import pandas as pd"
      ],
      "metadata": {
        "id": "6SUm1Osj-kXV"
      },
      "execution_count": 21,
      "outputs": []
    },
    {
      "cell_type": "code",
      "execution_count": 22,
      "metadata": {
        "id": "dlRpkfLE091N"
      },
      "outputs": [],
      "source": [
        "def goldbach_test(limit):\n",
        "    \"\"\"\n",
        "    Verifica la Conjetura Fuerte de Goldbach para todos los números pares hasta un límite dado.\n",
        "    \"\"\"\n",
        "    results = []\n",
        "    for n in range(4, limit + 1, 2):  # Solo números pares mayores que 2\n",
        "        found = False\n",
        "        for p in range(2, n):\n",
        "            if isprime(p) and isprime(n - p):\n",
        "                results.append((n, p, n - p))  # Guarda la primera descomposición encontrada\n",
        "                found = True\n",
        "                break\n",
        "        if not found:\n",
        "            results.append((n, None, None))  # En caso de que falle (lo cual no ha ocurrido)\n",
        "\n",
        "    return results\n",
        "\n",
        "# Definir un límite grande para verificar la conjetura\n",
        "limite_superior = 10000\n",
        "goldbach_results = goldbach_test(limite_superior)"
      ]
    },
    {
      "cell_type": "code",
      "source": [
        "def goldbach_test(limit):\n",
        "    \"\"\"\n",
        "    Verifica a Conjectura Forte de Goldbach para todos os números pares até um limite dado.\n",
        "    \"\"\"\n",
        "    results = []\n",
        "    for n in range(4, limit + 1, 2):  # Só números pares maiores que 2\n",
        "        found = False\n",
        "        for p in range(2, n):\n",
        "            if isprime(p) and isprime(n - p):\n",
        "                results.append((n, p, n - p))  # Guarda a primeira decomposição encontrada\n",
        "                found = True\n",
        "                break\n",
        "        if not found:\n",
        "            results.append((n, None, None))  # Caso falhe (o que nunca ocorreu)\n",
        "\n",
        "    return pd.DataFrame(results, columns=[\"Número Par\", \"Primo 1\", \"Primo 2\"])\n",
        "\n",
        "# Definir um limite grande para verificar a conjectura\n",
        "limite_superior = 10000\n",
        "df_goldbach = goldbach_test(limite_superior)\n",
        "\n",
        "# Exibir os primeiros resultados\n",
        "print(df_goldbach.head(10))\n"
      ],
      "metadata": {
        "id": "Cx2p-mtU1khx",
        "outputId": "c6b3c3ab-e6e4-4171-be6a-c7d406389fa7",
        "colab": {
          "base_uri": "https://localhost:8080/"
        }
      },
      "execution_count": 23,
      "outputs": [
        {
          "output_type": "stream",
          "name": "stdout",
          "text": [
            "   Número Par  Primo 1  Primo 2\n",
            "0           4        2        2\n",
            "1           6        3        3\n",
            "2           8        3        5\n",
            "3          10        3        7\n",
            "4          12        5        7\n",
            "5          14        3       11\n",
            "6          16        3       13\n",
            "7          18        5       13\n",
            "8          20        3       17\n",
            "9          22        3       19\n"
          ]
        }
      ]
    }
  ]
}