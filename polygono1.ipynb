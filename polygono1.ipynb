{
  "nbformat": 4,
  "nbformat_minor": 0,
  "metadata": {
    "colab": {
      "provenance": []
    },
    "kernelspec": {
      "name": "python3",
      "display_name": "Python 3"
    },
    "language_info": {
      "name": "python"
    }
  },
  "cells": [
    {
      "cell_type": "code",
      "source": [
        "!pip install shapely --upgrade"
      ],
      "metadata": {
        "colab": {
          "base_uri": "https://localhost:8080/"
        },
        "id": "NaDxX3TU6G1w",
        "outputId": "f4001109-a3e0-4336-e17d-f8ac7521f908"
      },
      "execution_count": 1,
      "outputs": [
        {
          "output_type": "stream",
          "name": "stdout",
          "text": [
            "Requirement already satisfied: shapely in /usr/local/lib/python3.11/dist-packages (2.0.7)\n",
            "Collecting shapely\n",
            "  Downloading shapely-2.1.0-cp311-cp311-manylinux_2_17_x86_64.manylinux2014_x86_64.whl.metadata (6.7 kB)\n",
            "Requirement already satisfied: numpy>=1.21 in /usr/local/lib/python3.11/dist-packages (from shapely) (2.0.2)\n",
            "Downloading shapely-2.1.0-cp311-cp311-manylinux_2_17_x86_64.manylinux2014_x86_64.whl (3.1 MB)\n",
            "\u001b[2K   \u001b[90m━━━━━━━━━━━━━━━━━━━━━━━━━━━━━━━━━━━━━━━━\u001b[0m \u001b[32m3.1/3.1 MB\u001b[0m \u001b[31m26.3 MB/s\u001b[0m eta \u001b[36m0:00:00\u001b[0m\n",
            "\u001b[?25hInstalling collected packages: shapely\n",
            "  Attempting uninstall: shapely\n",
            "    Found existing installation: shapely 2.0.7\n",
            "    Uninstalling shapely-2.0.7:\n",
            "      Successfully uninstalled shapely-2.0.7\n",
            "Successfully installed shapely-2.1.0\n"
          ]
        }
      ]
    },
    {
      "source": [
        "import geopandas as gpd\n",
        "from shapely.geometry import Point\n",
        "from shapely.geometry import Polygon\n",
        "import matplotlib.pyplot as plt\n",
        "import numpy as np\n",
        "import pandas as pd\n",
        "import geopandas as gpd\n",
        "from shapely.geometry import Point, Polygon\n",
        "from shapely.ops import transform\n",
        "import pyproj\n",
        "from shapely.geometry import mapping"
      ],
      "cell_type": "code",
      "metadata": {
        "id": "KtNbsVL244N3"
      },
      "execution_count": 2,
      "outputs": []
    },
    {
      "source": [
        "polygon = gpd.GeoDataFrame({'geometry': gpd.GeoSeries([Polygon([(0,0),(0,1),(0,1),(1,0)])])})"
      ],
      "cell_type": "code",
      "metadata": {
        "id": "6uUXSDe35ArS"
      },
      "execution_count": 3,
      "outputs": []
    },
    {
      "source": [
        "# Create a polygon\n",
        "polygon = gpd.GeoDataFrame({'geometry': gpd.GeoSeries([Polygon([(0,0),(0,1),(0,1),(1,0)])])})\n",
        "\n",
        "# Define a function to create a grid\n",
        "def gridify(geom, cell_size):\n",
        "    \"\"\"\n",
        "    Creates a grid of polygons within a given geometry.\n",
        "\n",
        "    Args:\n",
        "        geom (shapely.geometry.Polygon): The geometry to gridify.\n",
        "        cell_size (float): The size of the grid cells.\n",
        "\n",
        "    Returns:\n",
        "        geopandas.GeoDataFrame: A GeoDataFrame containing the grid polygons.\n",
        "    \"\"\"\n",
        "    # Get the bounds of the geometry\n",
        "    minx, miny, maxx, maxy = geom.bounds\n",
        "\n",
        "    # Create a list to store the grid polygons\n",
        "    grid_cells = []\n",
        "\n",
        "    # Iterate over the grid\n",
        "    for x0 in np.arange(minx, maxx, cell_size):\n",
        "        for y0 in np.arange(miny, maxy, cell_size):\n",
        "            # Create a polygon for the current grid cell\n",
        "            x1 = x0 + cell_size\n",
        "            y1 = y0 + cell_size\n",
        "            grid_cells.append(Polygon([(x0, y0), (x1, y0), (x1, y1), (x0, y1)]))\n",
        "\n",
        "    # Create a GeoDataFrame from the grid polygons\n",
        "    grid = gpd.GeoDataFrame({'geometry': grid_cells})\n",
        "\n",
        "    # Clip the grid to the input geometry\n",
        "    grid = gpd.clip(grid, geom)\n",
        "\n",
        "    return grid\n",
        "\n",
        "# Apply the gridify function\n",
        "grid = gridify(polygon.geometry[0], cell_size=0.1)\n",
        "\n",
        "# Plot the grid\n",
        "grid.plot()\n",
        "plt.show()"
      ],
      "cell_type": "code",
      "metadata": {
        "colab": {
          "base_uri": "https://localhost:8080/",
          "height": 430
        },
        "id": "q4iQuZ3K6aEX",
        "outputId": "f0026562-9d1f-4f29-eda0-4bec524d816b"
      },
      "execution_count": 4,
      "outputs": [
        {
          "output_type": "display_data",
          "data": {
            "text/plain": [
              "<Figure size 640x480 with 1 Axes>"
            ],
            "image/png": "[encoded data removed]"
          },
          "metadata": {}
        }
      ]
    },
    {
      "cell_type": "code",
      "source": [
        "grid.plot()"
      ],
      "metadata": {
        "colab": {
          "base_uri": "https://localhost:8080/",
          "height": 447
        },
        "id": "ryhChvcR53u-",
        "outputId": "d120ff49-9483-4505-a305-cd4069e087e0"
      },
      "execution_count": 5,
      "outputs": [
        {
          "output_type": "execute_result",
          "data": {
            "text/plain": [
              "<Axes: >"
            ]
          },
          "metadata": {},
          "execution_count": 5
        },
        {
          "output_type": "display_data",
          "data": {
            "text/plain": [
              "<Figure size 640x480 with 1 Axes>"
            ],
            "image/png": "[encoded data removed]"
          },
          "metadata": {}
        }
      ]
    }
  ]
}