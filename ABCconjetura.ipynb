{
  "nbformat": 4,
  "nbformat_minor": 0,
  "metadata": {
    "colab": {
      "provenance": []
    },
    "kernelspec": {
      "name": "python3",
      "display_name": "Python 3"
    },
    "language_info": {
      "name": "python"
    }
  },
  "cells": [
    {
      "cell_type": "code",
      "source": [
        "import math\n",
        "from sympy import factorint"
      ],
      "metadata": {
        "id": "2oDfMPyx9tZo"
      },
      "execution_count": null,
      "outputs": []
    },
    {
      "cell_type": "code",
      "execution_count": null,
      "metadata": {
        "colab": {
          "base_uri": "https://localhost:8080/"
        },
        "id": "GLA3-oJ2Hf5i",
        "outputId": "f9ddda85-5655-4931-c39b-97317b139810"
      },
      "outputs": [
        {
          "output_type": "stream",
          "name": "stdout",
          "text": [
            "Para A=3, B=7, C=10 e n=1.5, temos: (sqp(ABC)^n)/C = 304.318912\n"
          ]
        }
      ],
      "source": [
        "def sqp(n):\n",
        "    \"\"\"Calcula a parte sem quadrados de um número n.\"\"\"\n",
        "    fatores = factorint(n)  # Obtém a fatoração prima de n\n",
        "    resultado = 1\n",
        "    for p, e in fatores.items():\n",
        "        if e % 2 == 1:  # Apenas fatores com expoente ímpar\n",
        "            resultado *= p\n",
        "    return resultado\n",
        "\n",
        "def coprimos(a, b):\n",
        "    \"\"\"Verifica se dois números são coprimos.\"\"\"\n",
        "    return math.gcd(a, b) == 1\n",
        "\n",
        "def abc_conjecture(A, B, n):\n",
        "    \"\"\"Verifica a relação da Conjectura ABC para os números A, B e um expoente n > 1.\"\"\"\n",
        "    if not coprimos(A, B):\n",
        "        raise ValueError(\"A e B devem ser coprimos\")\n",
        "\n",
        "    C = A + B\n",
        "    ABC = A * B * C\n",
        "    sqp_ABC = sqp(ABC)\n",
        "\n",
        "    return (sqp_ABC ** n) / C\n",
        "\n",
        "# Exemplo de uso\n",
        "def main():\n",
        "    A, B = 3, 7  # Exemplo da descrição\n",
        "    C = A + B\n",
        "    n = 1.5  # Valor arbitrário de n > 1\n",
        "    resultado = abc_conjecture(A, B, n)\n",
        "    print(f\"Para A={A}, B={B}, C={C} e n={n}, temos: (sqp(ABC)^n)/C = {resultado:.6f}\")\n",
        "\n",
        "if __name__ == \"__main__\":\n",
        "    main()\n"
      ]
    }
  ]
}