{
  "nbformat": 4,
  "nbformat_minor": 0,
  "metadata": {
    "colab": {
      "provenance": []
    },
    "kernelspec": {
      "name": "python3",
      "display_name": "Python 3"
    },
    "language_info": {
      "name": "python"
    }
  },
  "cells": [
    {
      "cell_type": "code",
      "source": [
        "import numpy as np"
      ],
      "metadata": {
        "id": "QzA2foO8p570"
      },
      "execution_count": null,
      "outputs": []
    },
    {
      "cell_type": "code",
      "execution_count": null,
      "metadata": {
        "id": "JxeWGJbSp1Fo"
      },
      "outputs": [],
      "source": [
        "# Definir a matriz de coeficientes e o vetor de constantes\n",
        "A = np.array([\n",
        "    [3, 2, -1],\n",
        "    [2, -2, 4],\n",
        "    [-1, 0.5, -1]\n",
        "], dtype=float)\n",
        "\n",
        "b = np.array([1, -2, 0], dtype=float)\n",
        "\n",
        "# Função para realizar a eliminação de Gauss\n",
        "def gauss_elimination(A, b):\n",
        "    n = len(b)\n",
        "\n",
        "    # Eliminação Gaussiana\n",
        "    for i in range(n):\n",
        "        # Pivotamento parcial\n",
        "        max_row = np.argmax(np.abs(A[i:, i])) + i\n",
        "        if i != max_row:\n",
        "            A[[i, max_row]] = A[[max_row, i]]\n",
        "            b[[i, max_row]] = b[[max_row, i]]\n",
        "\n",
        "        # Tornar o elemento da diagonal igual a 1 e eliminar abaixo da diagonal\n",
        "        for j in range(i + 1, n):\n",
        "            factor = A[j][i] / A[i][i]\n",
        "            A[j] = A[j] - factor * A[i]\n",
        "            b[j] = b[j] - factor * b[i]\n",
        "\n",
        "    # Substituição retroativa\n",
        "    x = np.zeros(n)\n",
        "    for i in range(n - 1, -1, -1):\n",
        "        x[i] = (b[i] - np.dot(A[i, i + 1:], x[i + 1:])) / A[i][i]\n",
        "\n",
        "    return x"
      ]
    },
    {
      "cell_type": "code",
      "source": [
        "\n",
        "# Resolvendo o sistema\n",
        "solution = gauss_elimination(A, b)\n",
        "print(\"Solução do sistema:\", solution)\n"
      ],
      "metadata": {
        "colab": {
          "base_uri": "https://localhost:8080/"
        },
        "id": "3brPck6xqGNv",
        "outputId": "0c048304-e3f8-4bcd-abfe-ab7a6175ef82"
      },
      "execution_count": null,
      "outputs": [
        {
          "output_type": "stream",
          "name": "stdout",
          "text": [
            "Solução do sistema: [ 1. -2. -2.]\n"
          ]
        }
      ]
    },
    {
      "cell_type": "markdown",
      "source": [
        "Pivotamento parcial: Para melhorar a estabilidade numérica, a linha com o maior valor absoluto no pivô atual é colocada na linha superior.\n",
        "\n",
        "Eliminação Gaussiana: Para cada linha, usamos a linha pivô para eliminar os elementos abaixo dela, transformando a matriz em uma forma triangular superior.\n",
        "\n",
        "Substituição retroativa: Com a matriz triangular, resolvemos o sistema de cima para baixo, encontrando os valores das variáveis."
      ],
      "metadata": {
        "id": "muSTiwflqXx_"
      }
    },
    {
      "cell_type": "markdown",
      "source": [
        "os valores das variáveis que satisfazem todas as equações simultaneamente são\n",
        "x=1, y=-2, e z=-2."
      ],
      "metadata": {
        "id": "TK1tjEl8qr_9"
      }
    }
  ]
}