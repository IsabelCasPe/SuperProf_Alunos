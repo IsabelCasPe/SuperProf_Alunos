{
  "nbformat": 4,
  "nbformat_minor": 0,
  "metadata": {
    "colab": {
      "provenance": []
    },
    "kernelspec": {
      "name": "python3",
      "display_name": "Python 3"
    },
    "language_info": {
      "name": "python"
    }
  },
  "cells": [
    {
      "cell_type": "code",
      "execution_count": null,
      "metadata": {
        "colab": {
          "base_uri": "https://localhost:8080/",
          "height": 55
        },
        "id": "54cCNb8Fn1Sw",
        "outputId": "004b0c1d-c21f-4ddd-cd30-c82a1ac20bee"
      },
      "outputs": [
        {
          "output_type": "execute_result",
          "data": {
            "text/plain": [
              "(G1 + G2)*(G3*G4 + G3 + 1)/(G3*G4 + 1)"
            ],
            "text/latex": "$\\displaystyle \\frac{\\left(G_{1} + G_{2}\\right) \\left(G_{3} G_{4} + G_{3} + 1\\right)}{G_{3} G_{4} + 1}$"
          },
          "metadata": {},
          "execution_count": 1
        }
      ],
      "source": [
        "from sympy import symbols, Function\n",
        "\n",
        "# Definir as variáveis simbólicas para os blocos de transferência\n",
        "s = symbols('s')\n",
        "G1, G2, G3, G4 = symbols('G1 G2 G3 G4')\n",
        "\n",
        "# Função de transferência de feedback para G3 e G4\n",
        "feedback = G3 / (1 + G3 * G4)\n",
        "\n",
        "# Função de transferência total\n",
        "# Multiplicação em série e soma em paralelo dos blocos\n",
        "total_transfer_function = (G1 + G2) * (1 + feedback)\n",
        "total_transfer_function.simplify()\n"
      ]
    },
    {
      "cell_type": "code",
      "source": [
        "# Definir as variáveis simbólicas para os blocos de transferência\n",
        "G1, G2, H1, H2 = symbols('G1 G2 H1 H2')\n",
        "\n",
        "# Função de transferência do caminho principal (G1 e G2 em série)\n",
        "caminho_principal = G1 * G2\n",
        "\n",
        "# Função de transferência do feedback\n",
        "feedback_total = 1 + H1 * H2\n",
        "\n",
        "# Função de transferência total com feedback\n",
        "total_transfer_function_b = caminho_principal / feedback_total\n",
        "total_transfer_function_b.simplify()\n"
      ],
      "metadata": {
        "colab": {
          "base_uri": "https://localhost:8080/",
          "height": 54
        },
        "id": "Lxsaox3ro9np",
        "outputId": "2bc2b20d-7b97-409e-c6a8-0586d77c9ee0"
      },
      "execution_count": null,
      "outputs": [
        {
          "output_type": "execute_result",
          "data": {
            "text/plain": [
              "G1*G2/(H1*H2 + 1)"
            ],
            "text/latex": "$\\displaystyle \\frac{G_{1} G_{2}}{H_{1} H_{2} + 1}$"
          },
          "metadata": {},
          "execution_count": 2
        }
      ]
    },
    {
      "cell_type": "code",
      "source": [
        "from sympy import symbols, simplify\n",
        "\n",
        "# Definir a variável 's' e as funções de transferência\n",
        "s = symbols('s')\n",
        "G1 = s / (s + 1)\n",
        "G2 = 2 / (s - 1)\n",
        "G3 = s + 2\n",
        "H = 1 / s\n",
        "\n",
        "# Função de transferência direta\n",
        "G_total = G1 * G2 * G3\n",
        "\n",
        "# Função de transferência com feedback\n",
        "feedback_total = G_total / (1 + G_total * H)\n",
        "\n",
        "# Simplificar a função de transferência total\n",
        "feedback_total_simplified = simplify(feedback_total)\n",
        "feedback_total_simplified\n"
      ],
      "metadata": {
        "colab": {
          "base_uri": "https://localhost:8080/",
          "height": 54
        },
        "id": "23r_oCnQqGyH",
        "outputId": "1d78ded3-5644-425d-fdf0-4068e274d86b"
      },
      "execution_count": null,
      "outputs": [
        {
          "output_type": "execute_result",
          "data": {
            "text/plain": [
              "2*s*(s + 2)/(s**2 + 2*s + 3)"
            ],
            "text/latex": "$\\displaystyle \\frac{2 s \\left(s + 2\\right)}{s^{2} + 2 s + 3}$"
          },
          "metadata": {},
          "execution_count": 3
        }
      ]
    },
    {
      "cell_type": "code",
      "source": [
        "# Definir as variáveis simbólicas para os blocos de transferência\n",
        "s = symbols('s')\n",
        "G1 = (s + 3) / (s - 1)\n",
        "G2 = 2 * s / (s + 2)\n",
        "G3 = 1 / (s + 2)\n",
        "G4 = s + 1\n",
        "H = 4 / s\n",
        "\n",
        "# Função de transferência direta (blocos em série)\n",
        "G_total = G1 * G2 * G3 * G4\n",
        "\n",
        "# Função de transferência com feedback\n",
        "feedback_total_2 = G_total / (1 + G_total * H)\n",
        "\n",
        "# Simplificar a função de transferência total\n",
        "feedback_total_simplified_2 = simplify(feedback_total_2)\n",
        "feedback_total_simplified_2\n"
      ],
      "metadata": {
        "id": "xo58Z8fXqrJb",
        "outputId": "dd7f2822-596a-469c-e8fa-82bfa574b9f3",
        "colab": {
          "base_uri": "https://localhost:8080/",
          "height": 57
        }
      },
      "execution_count": null,
      "outputs": [
        {
          "output_type": "execute_result",
          "data": {
            "text/plain": [
              "2*s*(s**2 + 4*s + 3)/(s**3 + 11*s**2 + 32*s + 20)"
            ],
            "text/latex": "$\\displaystyle \\frac{2 s \\left(s^{2} + 4 s + 3\\right)}{s^{3} + 11 s^{2} + 32 s + 20}$"
          },
          "metadata": {},
          "execution_count": 4
        }
      ]
    }
  ]
}